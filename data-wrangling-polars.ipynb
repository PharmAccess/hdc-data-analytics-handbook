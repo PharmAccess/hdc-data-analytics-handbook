{
 "cells": [
  {
   "cell_type": "code",
   "execution_count": 1,
   "metadata": {},
   "outputs": [],
   "source": [
    "# imports\n",
    "import polars as pl"
   ]
  },
  {
   "cell_type": "code",
   "execution_count": 5,
   "metadata": {},
   "outputs": [
    {
     "name": "stdout",
     "output_type": "stream",
     "text": [
      "shape: (10, 3)\n",
      "┌─────────┬───────┬───────┐\n",
      "│ patient ┆ group ┆ score │\n",
      "│ ---     ┆ ---   ┆ ---   │\n",
      "│ i64     ┆ str   ┆ f64   │\n",
      "╞═════════╪═══════╪═══════╡\n",
      "│ 1       ┆ a     ┆ 6.0   │\n",
      "│ 2       ┆ a     ┆ 7.0   │\n",
      "│ 3       ┆ a     ┆ 7.0   │\n",
      "│ 4       ┆ a     ┆ 3.0   │\n",
      "│ …       ┆ …     ┆ …     │\n",
      "│ 7       ┆ b     ┆ 9.0   │\n",
      "│ 8       ┆ b     ┆ 10.0  │\n",
      "│ 9       ┆ b     ┆ 4.0   │\n",
      "│ 10      ┆ b     ┆ 8.0   │\n",
      "└─────────┴───────┴───────┘\n"
     ]
    }
   ],
   "source": [
    "df = pl.DataFrame(\n",
    "    {\n",
    "        \"patient\": [1, 2, 3, 4, 5, 6, 7, 8, 9, 10],\n",
    "        \"group\": [\"a\", \"a\", \"a\", \"a\", \"a\", \"b\", \"b\", \"b\", \"b\", \"b\"],\n",
    "        \"score\": [6.0, 7.0, 7.0, 3.0, 6.0, 7.0, 9.0, 10.0, 4.0, 8.0],\n",
    "    }\n",
    ")\n",
    "print(df)"
   ]
  },
  {
   "cell_type": "markdown",
   "metadata": {},
   "source": [
    "## Group by, summarise"
   ]
  },
  {
   "cell_type": "code",
   "execution_count": 9,
   "metadata": {},
   "outputs": [
    {
     "name": "stdout",
     "output_type": "stream",
     "text": [
      "shape: (2, 2)\n",
      "┌───────┬───────┐\n",
      "│ group ┆ score │\n",
      "│ ---   ┆ ---   │\n",
      "│ str   ┆ f64   │\n",
      "╞═══════╪═══════╡\n",
      "│ b     ┆ 7.6   │\n",
      "│ a     ┆ 5.8   │\n",
      "└───────┴───────┘\n"
     ]
    }
   ],
   "source": [
    "df_grouped = (\n",
    "    df.lazy()\n",
    "    .group_by(\"group\")\n",
    "    .agg(\n",
    "        pl.mean(\"score\")\n",
    "    )\n",
    "    .collect()\n",
    ")\n",
    "print(df_grouped)"
   ]
  },
  {
   "cell_type": "markdown",
   "metadata": {},
   "source": [
    "## Filter"
   ]
  },
  {
   "cell_type": "code",
   "execution_count": 10,
   "metadata": {},
   "outputs": [
    {
     "name": "stdout",
     "output_type": "stream",
     "text": [
      "shape: (5, 3)\n",
      "┌─────────┬───────┬───────┐\n",
      "│ patient ┆ group ┆ score │\n",
      "│ ---     ┆ ---   ┆ ---   │\n",
      "│ i64     ┆ str   ┆ f64   │\n",
      "╞═════════╪═══════╪═══════╡\n",
      "│ 1       ┆ a     ┆ 6.0   │\n",
      "│ 2       ┆ a     ┆ 7.0   │\n",
      "│ 3       ┆ a     ┆ 7.0   │\n",
      "│ 4       ┆ a     ┆ 3.0   │\n",
      "│ 5       ┆ a     ┆ 6.0   │\n",
      "└─────────┴───────┴───────┘\n"
     ]
    }
   ],
   "source": [
    "df_filtered = (\n",
    "    df.lazy()\n",
    "    .filter(pl.col(\"group\") == \"a\")\n",
    "    .collect()\n",
    ")\n",
    "print(df_filtered)"
   ]
  },
  {
   "cell_type": "markdown",
   "metadata": {},
   "source": [
    "## Mutate"
   ]
  },
  {
   "cell_type": "code",
   "execution_count": 13,
   "metadata": {},
   "outputs": [
    {
     "name": "stdout",
     "output_type": "stream",
     "text": [
      "shape: (10, 4)\n",
      "┌─────────┬───────┬───────┬────────────────┐\n",
      "│ patient ┆ group ┆ score ┆ score_adjusted │\n",
      "│ ---     ┆ ---   ┆ ---   ┆ ---            │\n",
      "│ i64     ┆ str   ┆ f64   ┆ f64            │\n",
      "╞═════════╪═══════╪═══════╪════════════════╡\n",
      "│ 1       ┆ a     ┆ 6.0   ┆ 6.5            │\n",
      "│ 2       ┆ a     ┆ 7.0   ┆ 7.5            │\n",
      "│ 3       ┆ a     ┆ 7.0   ┆ 7.5            │\n",
      "│ 4       ┆ a     ┆ 3.0   ┆ 3.5            │\n",
      "│ …       ┆ …     ┆ …     ┆ …              │\n",
      "│ 7       ┆ b     ┆ 9.0   ┆ 9.5            │\n",
      "│ 8       ┆ b     ┆ 10.0  ┆ 10.5           │\n",
      "│ 9       ┆ b     ┆ 4.0   ┆ 4.5            │\n",
      "│ 10      ┆ b     ┆ 8.0   ┆ 8.5            │\n",
      "└─────────┴───────┴───────┴────────────────┘\n"
     ]
    }
   ],
   "source": [
    "df_new_var = (\n",
    "    df.lazy()\n",
    "    .with_columns(\n",
    "        (pl.col(\"score\") + 0.5).alias(\"score_adjusted\")\n",
    "    )\n",
    "    .collect()\n",
    ")\n",
    "print(df_new_var)"
   ]
  },
  {
   "cell_type": "markdown",
   "metadata": {},
   "source": [
    "## Order"
   ]
  },
  {
   "cell_type": "code",
   "execution_count": 14,
   "metadata": {},
   "outputs": [
    {
     "name": "stdout",
     "output_type": "stream",
     "text": [
      "shape: (10, 3)\n",
      "┌─────────┬───────┬───────┐\n",
      "│ patient ┆ group ┆ score │\n",
      "│ ---     ┆ ---   ┆ ---   │\n",
      "│ i64     ┆ str   ┆ f64   │\n",
      "╞═════════╪═══════╪═══════╡\n",
      "│ 4       ┆ a     ┆ 3.0   │\n",
      "│ 9       ┆ b     ┆ 4.0   │\n",
      "│ 1       ┆ a     ┆ 6.0   │\n",
      "│ 5       ┆ a     ┆ 6.0   │\n",
      "│ …       ┆ …     ┆ …     │\n",
      "│ 6       ┆ b     ┆ 7.0   │\n",
      "│ 10      ┆ b     ┆ 8.0   │\n",
      "│ 7       ┆ b     ┆ 9.0   │\n",
      "│ 8       ┆ b     ┆ 10.0  │\n",
      "└─────────┴───────┴───────┘\n"
     ]
    }
   ],
   "source": [
    "df_ordered = (\n",
    "    df.lazy()\n",
    "    .sort(\"score\")\n",
    "    .collect()\n",
    ")\n",
    "print(df_ordered)"
   ]
  },
  {
   "cell_type": "markdown",
   "metadata": {},
   "source": [
    "## Rename"
   ]
  },
  {
   "cell_type": "code",
   "execution_count": 15,
   "metadata": {},
   "outputs": [
    {
     "name": "stdout",
     "output_type": "stream",
     "text": [
      "shape: (10, 3)\n",
      "┌───────────┬───────┬───────┐\n",
      "│ person_id ┆ group ┆ score │\n",
      "│ ---       ┆ ---   ┆ ---   │\n",
      "│ i64       ┆ str   ┆ f64   │\n",
      "╞═══════════╪═══════╪═══════╡\n",
      "│ 1         ┆ a     ┆ 6.0   │\n",
      "│ 2         ┆ a     ┆ 7.0   │\n",
      "│ 3         ┆ a     ┆ 7.0   │\n",
      "│ 4         ┆ a     ┆ 3.0   │\n",
      "│ …         ┆ …     ┆ …     │\n",
      "│ 7         ┆ b     ┆ 9.0   │\n",
      "│ 8         ┆ b     ┆ 10.0  │\n",
      "│ 9         ┆ b     ┆ 4.0   │\n",
      "│ 10        ┆ b     ┆ 8.0   │\n",
      "└───────────┴───────┴───────┘\n"
     ]
    }
   ],
   "source": [
    "df_renamed = (\n",
    "    df.lazy()\n",
    "    .rename({\"patient\": \"person_id\"})\n",
    "    .collect()\n",
    ")\n",
    "print(df_renamed)"
   ]
  },
  {
   "cell_type": "markdown",
   "metadata": {},
   "source": [
    "## Join"
   ]
  },
  {
   "cell_type": "code",
   "execution_count": 20,
   "metadata": {},
   "outputs": [
    {
     "name": "stdout",
     "output_type": "stream",
     "text": [
      "shape: (10, 4)\n",
      "┌─────────┬───────┬───────┬────────────┐\n",
      "│ patient ┆ group ┆ score ┆ group_name │\n",
      "│ ---     ┆ ---   ┆ ---   ┆ ---        │\n",
      "│ i64     ┆ str   ┆ f64   ┆ str        │\n",
      "╞═════════╪═══════╪═══════╪════════════╡\n",
      "│ 1       ┆ a     ┆ 6.0   ┆ alpha      │\n",
      "│ 2       ┆ a     ┆ 7.0   ┆ alpha      │\n",
      "│ 3       ┆ a     ┆ 7.0   ┆ alpha      │\n",
      "│ 4       ┆ a     ┆ 3.0   ┆ alpha      │\n",
      "│ …       ┆ …     ┆ …     ┆ …          │\n",
      "│ 7       ┆ b     ┆ 9.0   ┆ beta       │\n",
      "│ 8       ┆ b     ┆ 10.0  ┆ beta       │\n",
      "│ 9       ┆ b     ┆ 4.0   ┆ beta       │\n",
      "│ 10      ┆ b     ┆ 8.0   ┆ beta       │\n",
      "└─────────┴───────┴───────┴────────────┘\n"
     ]
    }
   ],
   "source": [
    "df_group =pl.DataFrame(\n",
    "    {\n",
    "        \"group\": [\"a\", \"b\"],\n",
    "        \"group_name\": [\"alpha\", \"beta\"]\n",
    "    }\n",
    ")\n",
    "df_joined = (\n",
    "    df.lazy()\n",
    "    .join(df_group.lazy(), on=\"group\", how=\"inner\")\n",
    "    .collect()\n",
    ")\n",
    "print(df_joined)"
   ]
  }
 ],
 "metadata": {
  "kernelspec": {
   "display_name": ".venv",
   "language": "python",
   "name": "python3"
  },
  "language_info": {
   "codemirror_mode": {
    "name": "ipython",
    "version": 3
   },
   "file_extension": ".py",
   "mimetype": "text/x-python",
   "name": "python",
   "nbconvert_exporter": "python",
   "pygments_lexer": "ipython3",
   "version": "3.11.4"
  },
  "orig_nbformat": 4
 },
 "nbformat": 4,
 "nbformat_minor": 2
}
